{
 "cells": [
  {
   "cell_type": "code",
   "execution_count": 1,
   "metadata": {},
   "outputs": [],
   "source": [
    "import sys\n",
    "sys.path.append('../src')\n",
    "\n",
    "from pipelines import preprocessing_pipeline\n",
    "from pipelines import classifier_pipeline\n",
    "\n",
    "import os\n",
    "import matplotlib.pyplot as plt\n",
    "import numpy as np\n",
    "import random\n",
    "from tqdm import tqdm \n",
    "\n",
    "import cv2\n",
    "from skimage import io, color, transform, feature\n",
    "from skimage.feature import hog, local_binary_pattern\n",
    "\n",
    "from sklearn.base import (\n",
    "    BaseEstimator, \n",
    "    TransformerMixin\n",
    ")\n",
    "from sklearn.pipeline import Pipeline\n",
    "from sklearn.model_selection import (\n",
    "    train_test_split,\n",
    "    KFold,\n",
    "    cross_val_score,\n",
    "    GridSearchCV,\n",
    "    RandomizedSearchCV\n",
    ")\n",
    "from sklearn.metrics import (\n",
    "    accuracy_score, \n",
    "    classification_report,\n",
    "    confusion_matrix\n",
    ")\n",
    "from sklearn.svm import SVC\n",
    "\n",
    "root_path = '../'\n",
    "ck_data_path = os.path.join(root_path, 'data/CK+48')\n",
    "jaffe_data_path = os.path.join(root_path, 'data/JAFFE')"
   ]
  },
  {
   "cell_type": "markdown",
   "metadata": {},
   "source": [
    "# Data"
   ]
  },
  {
   "cell_type": "code",
   "execution_count": 2,
   "metadata": {},
   "outputs": [
    {
     "name": "stderr",
     "output_type": "stream",
     "text": [
      "  0%|          | 0/981 [00:00<?, ?it/s]"
     ]
    },
    {
     "name": "stderr",
     "output_type": "stream",
     "text": [
      "100%|██████████| 981/981 [00:03<00:00, 286.24it/s]\n"
     ]
    },
    {
     "name": "stdout",
     "output_type": "stream",
     "text": [
      "Dataset: ck\n",
      "Dataset length: 981\n",
      "Image shape: (48, 48)\n"
     ]
    },
    {
     "name": "stderr",
     "output_type": "stream",
     "text": [
      "100%|██████████| 213/213 [00:00<00:00, 1010.31it/s]"
     ]
    },
    {
     "name": "stdout",
     "output_type": "stream",
     "text": [
      "Dataset: jaffe\n",
      "Dataset length: 213\n",
      "Image shape: (256, 256)\n"
     ]
    },
    {
     "name": "stderr",
     "output_type": "stream",
     "text": [
      "\n"
     ]
    }
   ],
   "source": [
    "ck_images, ck_labels = preprocessing_pipeline(ck_data_path, 'ck', verbose=True)\n",
    "jaffe_images, jaffe_labels = preprocessing_pipeline(jaffe_data_path, 'jaffe', verbose=True)"
   ]
  },
  {
   "cell_type": "markdown",
   "metadata": {},
   "source": [
    "# Handmade Gabor Filters"
   ]
  },
  {
   "cell_type": "code",
   "execution_count": 62,
   "metadata": {},
   "outputs": [],
   "source": [
    "def gabor_filter(kernel_size, sigma, gamma, lmbda, psi, angle):\n",
    "    # get half size\n",
    "    d = kernel_size // 2\n",
    "\n",
    "    # prepare kernel\n",
    "    gabor = np.zeros((kernel_size, kernel_size), dtype=np.float32)\n",
    "\n",
    "    # each value\n",
    "    for y in range(kernel_size):\n",
    "        for x in range(kernel_size):\n",
    "            # distance from center\n",
    "            px = x - d\n",
    "            py = y - d\n",
    "\n",
    "            # degree -> radian\n",
    "            theta = angle / 180. * np.pi\n",
    "\n",
    "            # kernel x\n",
    "            _x = np.cos(theta) * px + np.sin(theta) * py\n",
    "\n",
    "            # kernel y\n",
    "            _y = -np.sin(theta) * px + np.cos(theta) * py\n",
    "\n",
    "            # fill kernel\n",
    "            gabor[y, x] = np.exp(-(_x**2 + gamma**2 * _y**2) / (2 * sigma**2)) * np.cos(2*np.pi*_x/lmbda + psi)\n",
    "\n",
    "    # kernel normalization\n",
    "    gabor /= np.sum(np.abs(gabor))\n",
    "\n",
    "    return gabor\n",
    "\n",
    "\n",
    "def gabor_filtering(image, kernel_size, sigma, gamma, lmbda, psi, angle):\n",
    "    # get shape\n",
    "    H, W = image.shape\n",
    "\n",
    "    # padding\n",
    "    image = np.pad(image, (kernel_size//2, kernel_size//2), 'edge')\n",
    "\n",
    "    # prepare out image\n",
    "    out = np.zeros((H, W), dtype=np.float32)\n",
    "\n",
    "    # get gabor filter\n",
    "    gabor = gabor_filter(\n",
    "        kernel_size=kernel_size, \n",
    "        sigma=sigma, \n",
    "        gamma=gamma, \n",
    "        lmbda=lmbda,\n",
    "        psi=psi, \n",
    "        angle=angle\n",
    "    )\n",
    "\n",
    "    # filtering\n",
    "    for y in range(H):\n",
    "        for x in range(W):\n",
    "            out[y, x] = np.sum(image[y : y + kernel_size, x : x + kernel_size] * gabor)\n",
    "\n",
    "    out = np.clip(out, 0, 255)\n",
    "    out = out.astype(np.uint8)\n",
    "\n",
    "    return out\n",
    "\n",
    "\n",
    "# Use 6 Gabor filters with different angles to perform feature extraction on the image\n",
    "def gabor_process(\n",
    "    image, \n",
    "    kernel_size=11,\n",
    "    sigma=1.5,\n",
    "    gamma=1.2, \n",
    "    lmbda=3,\n",
    "    psi=0,\n",
    "    angles = [0,30,60,90,120,150]\n",
    "):\n",
    "    \n",
    "    H, W = image.shape\n",
    "    out = np.zeros([H, W], dtype=np.float32)\n",
    "\n",
    "    # each angle\n",
    "    for i, angle in enumerate(angles):\n",
    "    \n",
    "        # gabor filtering\n",
    "        _out = gabor_filtering(\n",
    "            image, \n",
    "            kernel_size=kernel_size, \n",
    "            sigma=sigma, \n",
    "            gamma=gamma, \n",
    "            lmbda=lmbda, \n",
    "            psi=psi, \n",
    "            angle=angle\n",
    "        )\n",
    "         \n",
    "        # add gabor filtered image\n",
    "        out += _out\n",
    "        \n",
    "    # scale normalization\n",
    "    out = out /out.max()*255\n",
    "    out = out.astype(np.uint8)\n",
    "\n",
    "    return out"
   ]
  },
  {
   "cell_type": "code",
   "execution_count": 64,
   "metadata": {},
   "outputs": [
    {
     "data": {
      "image/png": "[encoded data removed]",
      "text/plain": [
       "<Figure size 800x400 with 2 Axes>"
      ]
     },
     "metadata": {},
     "output_type": "display_data"
    }
   ],
   "source": [
    "image = ck_images[0]\n",
    "gabor_image = gabor_process(image)\n",
    "\n",
    "fig, (ax1, ax2) = plt.subplots(1, 2, figsize=(8, 4), sharex=True, sharey=True)\n",
    "ax1.axis('off')\n",
    "ax1.imshow(image, cmap='gray')\n",
    "ax1.set_title('Input image')\n",
    "ax2.axis('off')\n",
    "ax2.imshow(gabor_image, cmap='gray')\n",
    "ax2.set_title('Gabor filter')\n",
    "plt.show()"
   ]
  },
  {
   "cell_type": "code",
   "execution_count": 79,
   "metadata": {},
   "outputs": [
    {
     "data": {
      "image/png": "[encoded data removed]",
      "text/plain": [
       "<Figure size 640x480 with 1 Axes>"
      ]
     },
     "metadata": {},
     "output_type": "display_data"
    },
    {
     "data": {
      "text/plain": [
       "<matplotlib.image.AxesImage at 0x289e60d1150>"
      ]
     },
     "execution_count": 79,
     "metadata": {},
     "output_type": "execute_result"
    },
    {
     "data": {
      "image/png": "[encoded data removed]",
      "text/plain": [
       "<Figure size 640x480 with 1 Axes>"
      ]
     },
     "metadata": {},
     "output_type": "display_data"
    }
   ],
   "source": [
    "plt.imshow(transform.resize(image, (32, 32))*255, cmap='gray')\n",
    "plt.show()\n",
    "plt.imshow((transform.resize(image, (32, 32))*255).astype(np.uint8), cmap='gray')"
   ]
  },
  {
   "cell_type": "code",
   "execution_count": null,
   "metadata": {},
   "outputs": [],
   "source": []
  },
  {
   "cell_type": "code",
   "execution_count": 52,
   "metadata": {},
   "outputs": [
    {
     "data": {
      "image/png": "[encoded data removed]",
      "text/plain": [
       "<Figure size 1000x1000 with 24 Axes>"
      ]
     },
     "metadata": {},
     "output_type": "display_data"
    },
    {
     "name": "stdout",
     "output_type": "stream",
     "text": [
      "(6, 32, 32)\n"
     ]
    }
   ],
   "source": [
    "import numpy as np\n",
    "from scipy import signal\n",
    "import matplotlib.pyplot as plt\n",
    "\n",
    "def gabor_filter(x, y, rx, ry, W, h):\n",
    "    x0 = x * np.cos(h) + y * np.sin(h)\n",
    "    y0 = -x * np.sin(h) + y * np.cos(h)\n",
    "    return np.exp(-0.5 * ((x0 / rx)**2 + (y0 / ry)**2)) * np.cos(2 * np.pi * W * x0)\n",
    "\n",
    "def gabor_filter_bank(Uh, Ul, S, K, image_size):\n",
    "    filters = []\n",
    "    for m in range(S):\n",
    "        for n in range(K):\n",
    "            a = (Uh / Ul)**(1/S - 1)\n",
    "            W = a**m * Ul\n",
    "            rx = (a - 1) * Uh / ((a + 1) * np.sqrt(2 * np.log(2)))\n",
    "            rv = np.tan(np.pi / (2 * K)) * W / (2 * np.sqrt(2 * np.log(2)))\n",
    "            \n",
    "            for x in range(-image_size // 2, image_size // 2):\n",
    "                for y in range(-image_size // 2, image_size // 2):\n",
    "                    filters.append(gabor_filter(x, y, rx, rv, W, n * np.pi / K))\n",
    "                    \n",
    "    return np.array(filters).reshape(S, K, image_size, image_size)\n",
    "\n",
    "def plot_filters(filters, S, K):\n",
    "    plt.figure(figsize=(10, 10))\n",
    "    for m in range(S):\n",
    "        for n in range(K):\n",
    "            plt.subplot(S, K, m * K + n + 1)\n",
    "            plt.imshow(filters[m, n], cmap='gray')\n",
    "            plt.axis('off')\n",
    "    plt.show()\n",
    "\n",
    "# Define parameters\n",
    "Uh = 2.5\n",
    "Ul = 0.1\n",
    "S = 4\n",
    "K = 6\n",
    "image_size = 32\n",
    "\n",
    "# Generate Gabor filter bank\n",
    "gabor_filters = gabor_filter_bank(Uh, Ul, S, K, image_size)\n",
    "\n",
    "# Plot the filters\n",
    "plot_filters(gabor_filters, S, K)\n",
    "\n",
    "print(gabor_filters[0].shape)\n"
   ]
  },
  {
   "cell_type": "code",
   "execution_count": 55,
   "metadata": {},
   "outputs": [],
   "source": [
    "# from scipy.ndimage import convolve\n",
    "# from skimage import color, io\n",
    "\n",
    "# image = transform.resize(ck_images[0], (32,32))\n",
    "\n",
    "# # Apply Gabor filter bank to the image\n",
    "# def apply_gabor_filters(image, filters):\n",
    "#     filtered_images = np.zeros_like(filters)\n",
    "#     for m in range(filters.shape[0]):\n",
    "#         for n in range(filters.shape[1]):\n",
    "#             filtered_images[m, n] = convolve(image, filters[m, n], mode='constant', cval=0.0)\n",
    "#     return filtered_images\n",
    "\n",
    "\n",
    "# # Apply Gabor filter bank to the grayscale image\n",
    "# filtered_images = apply_gabor_filters(image, gabor_filters)\n",
    "# plot_filters(filtered_images, S, K)\n"
   ]
  },
  {
   "cell_type": "code",
   "execution_count": null,
   "metadata": {},
   "outputs": [],
   "source": []
  },
  {
   "cell_type": "markdown",
   "metadata": {},
   "source": [
    "# With cv2"
   ]
  },
  {
   "cell_type": "code",
   "execution_count": 66,
   "metadata": {},
   "outputs": [],
   "source": [
    "import cv2\n",
    "# Function to extract Gabor features from an image\n",
    "def gabor_features(image, ksize=9, sigma=2.0, theta=0, lambd=5.0, gamma=0.5):\n",
    "    gabor_filter = cv2.getGaborKernel((ksize, ksize), sigma, theta, lambd, gamma, 0, ktype=cv2.CV_64F)\n",
    "    filtered_image = cv2.filter2D(image, cv2.CV_8UC3, gabor_filter)\n",
    "    return filtered_image.flatten()"
   ]
  },
  {
   "cell_type": "markdown",
   "metadata": {},
   "source": [
    "# Gabor pipeline"
   ]
  },
  {
   "cell_type": "code",
   "execution_count": 69,
   "metadata": {},
   "outputs": [
    {
     "name": "stderr",
     "output_type": "stream",
     "text": [
      "  0%|          | 0/981 [00:00<?, ?it/s]"
     ]
    },
    {
     "name": "stderr",
     "output_type": "stream",
     "text": [
      "100%|██████████| 981/981 [05:27<00:00,  2.99it/s]\n"
     ]
    },
    {
     "name": "stdout",
     "output_type": "stream",
     "text": [
      "================================================\n",
      "Train Result:\n",
      "Accuracy Score: 100.00%\n",
      "================================================\n",
      "Test Result:\n",
      "Accuracy Score: 99.66%\n"
     ]
    }
   ],
   "source": [
    "from pipelines imort gabor_pipeline\n",
    "\n",
    "gabor_features = gabor_pipeline(ck_images, verbose=True)\n",
    "gabor_features.shape\n",
    "\n",
    "X = gabor_features\n",
    "y = ck_labels \n",
    "\n",
    "train_results, test_results = classifier_pipeline(X, y, verbose=True)"
   ]
  },
  {
   "cell_type": "code",
   "execution_count": 85,
   "metadata": {},
   "outputs": [
    {
     "name": "stderr",
     "output_type": "stream",
     "text": [
      "100%|██████████| 213/213 [00:08<00:00, 25.58it/s]"
     ]
    },
    {
     "name": "stdout",
     "output_type": "stream",
     "text": [
      "================================================\n",
      "Train Result:\n",
      "Accuracy Score: 100.00%\n",
      "================================================\n",
      "Test Result:\n",
      "Accuracy Score: 78.12%\n"
     ]
    },
    {
     "name": "stderr",
     "output_type": "stream",
     "text": [
      "\n"
     ]
    }
   ],
   "source": [
    "from pipelines import gabor_pipeline\n",
    "\n",
    "gabor_features = gabor_pipeline(jaffe_images, resize=(32,32))\n",
    "gabor_features.shape\n",
    "\n",
    "X = gabor_features\n",
    "y = jaffe_labels \n",
    "\n",
    "train_results, test_results = classifier_pipeline(X, y, verbose=True)"
   ]
  },
  {
   "cell_type": "markdown",
   "metadata": {},
   "source": [
    "# Gridsearch"
   ]
  },
  {
   "cell_type": "code",
   "execution_count": null,
   "metadata": {},
   "outputs": [],
   "source": [
    "X_train, X_test, y_train, y_test = train_test_split(\n",
    "    *preprocessing_pipeline(jaffe_data_path, 'jaffe'),\n",
    "    test_size=0.25, random_state=42, shuffle=True\n",
    ")\n",
    "\n",
    "gabor_sk_pipeline = Pipeline([\n",
    "    ('gabor_features', GaborTransformer()),\n",
    "    ('svc', SVC(kernel='rbf', gamma='scale', C= 10))\n",
    "])\n",
    "\n",
    "param_grid = {\n",
    "    'gabor_features__kernel_size': [7, 9, 11],\n",
    "    'gabor_features__sigma': [0.5, 1.5, 3], # Size of the Filter (σ)\n",
    "    'gabor_features__gamma': [0.5, 1.2, 3], # Aspect Ratio (γ)\n",
    "    'gabor_features__lmbda': [1, 5, 10], # Spatial Frequency (λ)\n",
    "    'gabor_features__psi': [0],\n",
    "    'gabor_features__angles': [[0,30,60,90,120,150], [0, 45, 90, 135]] # Orientation (θ)\n",
    "}\n",
    "\n",
    "grid_search = GridSearchCV(\n",
    "    estimator=gabor_sk_pipeline,\n",
    "    param_grid=param_grid,\n",
    "    scoring='accuracy',\n",
    "    cv=4,\n",
    "    verbose=1\n",
    ")\n",
    "\n",
    "grid_search.fit(X_train, y_train)\n",
    "best_params = grid_search.best_params_\n",
    "best_estimator = grid_search.best_estimator_\n",
    "print(\"Best parameters found by grid search:\")\n",
    "print(best_params)\n",
    "\n",
    "\n",
    "y_train_pred = best_estimator.predict(X_train)\n",
    "print(\"\\nTest Result:\\n================================================\")\n",
    "print(f\"Accuracy Score: {accuracy_score(y_train, y_train_pred) * 100:.2f}%\")\n",
    "print(\"_______________________________________________\")\n",
    "print(f\"CLASSIFICATION REPORT:\\n{classification_report(y_train, y_train_pred)}\")\n",
    "print(\"_______________________________________________\")\n",
    "print(f\"Confusion Matrix: \\n{confusion_matrix(y_train, y_train_pred)}\")\n",
    "\n",
    "\n",
    "y_test_pred = best_estimator.predict(X_test)\n",
    "print(\"\\nTest Result:\\n================================================\")\n",
    "print(f\"Accuracy Score: {accuracy_score(y_test, y_test_pred) * 100:.2f}%\")\n",
    "print(\"_______________________________________________\")\n",
    "print(f\"CLASSIFICATION REPORT:\\n{classification_report(y_test, y_test_pred)}\")\n",
    "print(\"_______________________________________________\")\n",
    "print(f\"Confusion Matrix: \\n{confusion_matrix(y_test, y_test_pred)}\")\n",
    "\n",
    "# Best parameters found by grid search:\n",
    "# {'gabor_features__angles': [0, 30, 60, 90, 120, 150], 'gabor_features__gamma': 3, 'gabor_features__kernel_size': 11, 'gabor_features__lmbda': 5, 'gabor_features__psi': 0, 'gabor_features__sigma': 3}\n",
    "# 100%|██████████| 159/159 [00:06<00:00, 23.26it/s]\n",
    "\n",
    "# Test Result:\n",
    "# ================================================\n",
    "# Accuracy Score: 99.37%\n",
    "# _______________________________________________\n",
    "# CLASSIFICATION REPORT:\n",
    "#               precision    recall  f1-score   support\n",
    "\n",
    "#        Anger       1.00      1.00      1.00        21\n",
    "#      Disgust       1.00      1.00      1.00        25\n",
    "#         Fear       1.00      1.00      1.00        22\n",
    "#    Happiness       0.96      1.00      0.98        23\n",
    "#      Neutral       1.00      1.00      1.00        21\n",
    "#      Sadness       1.00      0.96      0.98        26\n",
    "#     Surprise       1.00      1.00      1.00        21\n",
    "\n",
    "#     accuracy                           0.99       159\n",
    "#    macro avg       0.99      0.99      0.99       159\n",
    "# weighted avg       0.99      0.99      0.99       159\n",
    "\n",
    "# _______________________________________________\n",
    "# Confusion Matrix: \n",
    "# [[21  0  0  0  0  0  0]\n",
    "#  [ 0 25  0  0  0  0  0]\n",
    "#  [ 0  0 22  0  0  0  0]\n",
    "#  [ 0  0  0 23  0  0  0]\n",
    "#  [ 0  0  0  0 21  0  0]\n",
    "#  [ 0  0  0  1  0 25  0]\n",
    "#  [ 0  0  0  0  0  0 21]]\n",
    "# 100%|██████████| 54/54 [00:02<00:00, 24.08it/s]\n",
    "\n",
    "# Test Result:\n",
    "# ================================================\n",
    "# Accuracy Score: 87.04%\n",
    "# _______________________________________________\n",
    "# CLASSIFICATION REPORT:\n",
    "#               precision    recall  f1-score   support\n",
    "\n",
    "#        Anger       1.00      0.89      0.94         9\n",
    "#      Disgust       0.60      0.75      0.67         4\n",
    "#         Fear       0.88      0.70      0.78        10\n",
    "#    Happiness       1.00      0.88      0.93         8\n",
    "#      Neutral       0.82      1.00      0.90         9\n",
    "#      Sadness       0.83      1.00      0.91         5\n",
    "#     Surprise       0.89      0.89      0.89         9\n",
    "\n",
    "#     accuracy                           0.87        54\n",
    "#    macro avg       0.86      0.87      0.86        54\n",
    "# weighted avg       0.88      0.87      0.87        54\n",
    "\n",
    "# _______________________________________________\n",
    "# Confusion Matrix: \n",
    "# [[8 0 1 0 0 0 0]\n",
    "#  [0 3 0 0 0 1 0]\n",
    "#  [0 2 7 0 0 0 1]\n",
    "#  [0 0 0 7 1 0 0]\n",
    "#  [0 0 0 0 9 0 0]\n",
    "#  [0 0 0 0 0 5 0]\n",
    "#  [0 0 0 0 1 0 8]]\n"
   ]
  },
  {
   "cell_type": "code",
   "execution_count": 5,
   "metadata": {},
   "outputs": [
    {
     "name": "stdout",
     "output_type": "stream",
     "text": [
      "--- PREPROCESSING ---\n"
     ]
    },
    {
     "name": "stderr",
     "output_type": "stream",
     "text": [
      "  0%|          | 0/981 [00:00<?, ?it/s]"
     ]
    },
    {
     "name": "stderr",
     "output_type": "stream",
     "text": [
      "100%|██████████| 981/981 [00:03<00:00, 261.38it/s]\n"
     ]
    },
    {
     "name": "stdout",
     "output_type": "stream",
     "text": [
      "Dataset: ck\n",
      "Dataset length: 981\n",
      "Image shape: (48, 48)\n",
      "--- GABOR ---\n"
     ]
    },
    {
     "name": "stderr",
     "output_type": "stream",
     "text": [
      "100%|██████████| 981/981 [06:52<00:00,  2.38it/s]\n"
     ]
    },
    {
     "name": "stdout",
     "output_type": "stream",
     "text": [
      "kernel size: 11\n",
      "sigma: 1.5\n",
      "gamma: 1.2\n",
      "lambda: 3\n",
      "angles: [0, 30, 60, 90, 120, 150]\n",
      "Features: (981, 2304)\n",
      "--- CLASSIF ---\n",
      "================================================\n",
      "Train Result:\n",
      "Accuracy Score: 100.00%\n",
      "================================================\n",
      "Test Result:\n",
      "Accuracy Score: 99.66%\n"
     ]
    }
   ],
   "source": [
    "from pipelines import full_gabor_pipeline\n",
    "\n",
    "train_results, test_results = full_gabor_pipeline(\n",
    "    ck_data_path, \n",
    "    'ck',\n",
    "    kernel_size=11,\n",
    "    sigma=1.5,\n",
    "    gamma=1.2, \n",
    "    lmbda=3,\n",
    "    psi=0,\n",
    "    angles = [0,30,60,90,120,150],  \n",
    "    resize = None,\n",
    "    test_size = 0.3,\n",
    "    random_state = 42,\n",
    "    shuffle=True,\n",
    "    verbose=True\n",
    ")\n",
    "\n",
    "# --- PREPROCESSING ---\n",
    "#   0%|          | 0/981 [00:00<?, ?it/s]\n",
    "# 100%|██████████| 981/981 [00:03<00:00, 261.38it/s]\n",
    "# Dataset: ck\n",
    "# Dataset length: 981\n",
    "# Image shape: (48, 48)\n",
    "# --- GABOR ---\n",
    "# 100%|██████████| 981/981 [06:52<00:00,  2.38it/s]\n",
    "# kernel size: 11\n",
    "# sigma: 1.5\n",
    "# gamma: 1.2\n",
    "# lambda: 3\n",
    "# angles: [0, 30, 60, 90, 120, 150]\n",
    "# Features: (981, 2304)\n",
    "# --- CLASSIF ---\n",
    "# ================================================\n",
    "# Train Result:\n",
    "# Accuracy Score: 100.00%\n",
    "# ================================================\n",
    "# Test Result:\n",
    "# Accuracy Score: 99.66%"
   ]
  },
  {
   "cell_type": "code",
   "execution_count": 2,
   "metadata": {},
   "outputs": [
    {
     "name": "stdout",
     "output_type": "stream",
     "text": [
      "--- PREPROCESSING ---\n"
     ]
    },
    {
     "name": "stderr",
     "output_type": "stream",
     "text": [
      "100%|██████████| 213/213 [00:00<00:00, 976.94it/s]\n"
     ]
    },
    {
     "name": "stdout",
     "output_type": "stream",
     "text": [
      "Dataset: jaffe\n",
      "Dataset length: 213\n",
      "Image shape: (256, 256)\n",
      "--- GABOR ---\n"
     ]
    },
    {
     "name": "stderr",
     "output_type": "stream",
     "text": [
      "100%|██████████| 213/213 [00:44<00:00,  4.84it/s]"
     ]
    },
    {
     "name": "stdout",
     "output_type": "stream",
     "text": [
      "resize: (32, 32)\n",
      "kernel size: 11\n",
      "sigma: 3\n",
      "gamma: 3\n",
      "lambda: 5\n",
      "angles: [0, 30, 60, 90, 120, 150]\n",
      "Features: (213, 1024)\n",
      "--- CLASSIF ---\n",
      "================================================\n",
      "Train Result:\n",
      "Accuracy Score: 99.33%\n",
      "================================================\n",
      "Test Result:\n",
      "Accuracy Score: 82.81%\n"
     ]
    },
    {
     "name": "stderr",
     "output_type": "stream",
     "text": [
      "\n"
     ]
    }
   ],
   "source": [
    "from pipelines import full_gabor_pipeline\n",
    "\n",
    "train_results, test_results = full_gabor_pipeline(\n",
    "    jaffe_data_path, \n",
    "    'jaffe',\n",
    "    kernel_size=11,\n",
    "    sigma=3,\n",
    "    gamma=3, \n",
    "    lmbda=5,\n",
    "    psi=0,\n",
    "    angles = [0,30,60,90,120,150], \n",
    "    resize = (32,32),\n",
    "    test_size = 0.3,\n",
    "    random_state = 42,\n",
    "    shuffle=True,\n",
    "    verbose=True\n",
    ")\n",
    "\n",
    "# --- PREPROCESSING ---\n",
    "# 100%|██████████| 213/213 [00:00<00:00, 976.94it/s]\n",
    "# Dataset: jaffe\n",
    "# Dataset length: 213\n",
    "# Image shape: (256, 256)\n",
    "# --- GABOR ---\n",
    "# 100%|██████████| 213/213 [00:44<00:00,  4.84it/s]\n",
    "# resize: (32, 32)\n",
    "# kernel size: 11\n",
    "# sigma: 3\n",
    "# gamma: 3\n",
    "# lambda: 5\n",
    "# angles: [0, 30, 60, 90, 120, 150]\n",
    "# Features: (213, 1024)\n",
    "# --- CLASSIF ---\n",
    "# ================================================\n",
    "# Train Result:\n",
    "# Accuracy Score: 99.33%\n",
    "# ================================================\n",
    "# Test Result:\n",
    "# Accuracy Score: 82.81%"
   ]
  },
  {
   "cell_type": "markdown",
   "metadata": {},
   "source": [
    "# cross-val"
   ]
  },
  {
   "cell_type": "code",
   "execution_count": 3,
   "metadata": {},
   "outputs": [
    {
     "name": "stderr",
     "output_type": "stream",
     "text": [
      "100%|██████████| 213/213 [00:00<00:00, 985.37it/s] \n"
     ]
    },
    {
     "name": "stdout",
     "output_type": "stream",
     "text": [
      "SVM MEAN  Accuracy:  82.13%\n",
      "Standard deviation:  3.221%\n"
     ]
    }
   ],
   "source": [
    "from pipelines import GaborTransformer\n",
    "\n",
    "jaffe_images, jaffe_labels = preprocessing_pipeline(jaffe_data_path, 'jaffe')\n",
    "\n",
    "cv = KFold(n_splits=4, random_state=42, shuffle=True)\n",
    "\n",
    "gabor_sk_pipeline = Pipeline([\n",
    "    (\n",
    "        'gabor_features', GaborTransformer(\n",
    "            kernel_size=11,\n",
    "            sigma=3,\n",
    "            gamma=3, \n",
    "            lmbda=5,\n",
    "            psi=0,\n",
    "            angles = [0,30,60,90,120,150], \n",
    "            resize = (32,32))\n",
    "    ),\n",
    "    ('svc', SVC(kernel='rbf', gamma='scale', C= 10))\n",
    "])\n",
    "\n",
    "scores = cross_val_score(gabor_sk_pipeline, jaffe_images, jaffe_labels, scoring='accuracy', cv=cv, n_jobs=-1)\n",
    "print('SVM MEAN  Accuracy: ',str(np.mean(scores)*100)[:5] + '%')\n",
    "print('Standard deviation: ',str(np.std(scores)*100)[:5] + '%')\n",
    "\n",
    "# 100%|██████████| 213/213 [00:00<00:00, 985.37it/s] \n",
    "# SVM MEAN  Accuracy:  82.13%\n",
    "# Standard deviation:  3.221%"
   ]
  },
  {
   "cell_type": "code",
   "execution_count": 4,
   "metadata": {},
   "outputs": [
    {
     "name": "stderr",
     "output_type": "stream",
     "text": [
      "  0%|          | 0/981 [00:00<?, ?it/s]"
     ]
    },
    {
     "name": "stderr",
     "output_type": "stream",
     "text": [
      " 62%|██████▏   | 612/981 [00:01<00:01, 297.74it/s]"
     ]
    }
   ],
   "source": [
    "from pipelines import GaborTransformer\n",
    "\n",
    "ck_images, ck_labels = preprocessing_pipeline(ck_data_path, 'ck')\n",
    "\n",
    "cv = KFold(n_splits=4, random_state=42, shuffle=True)\n",
    "\n",
    "gabor_sk_pipeline = Pipeline([\n",
    "    (\n",
    "        'gabor_features', GaborTransformer(\n",
    "            kernel_size=11,\n",
    "            sigma=1.5,\n",
    "            gamma=1.2, \n",
    "            lmbda=3,\n",
    "            psi=0,\n",
    "            angles = [0,30,60,90,120,150],  \n",
    "            resize = None\n",
    "        )\n",
    "    ),\n",
    "    ('svc', SVC(kernel='rbf', gamma='scale', C= 10))\n",
    "])\n",
    "\n",
    "scores = cross_val_score(gabor_sk_pipeline, ck_images, ck_labels, scoring='accuracy', cv=cv, n_jobs=-1)\n",
    "print('SVM MEAN  Accuracy: ',str(np.mean(scores)*100)[:5] + '%')\n",
    "print('Standard deviation: ',str(np.std(scores)*100)[:5] + '%')\n",
    "\n",
    "# 100%|██████████| 213/213 [00:00<00:00, 985.37it/s] \n",
    "# SVM MEAN  Accuracy:  82.13%\n",
    "# Standard deviation:  3.221%\n"
   ]
  }
 ],
 "metadata": {
  "kernelspec": {
   "display_name": "Python 3",
   "language": "python",
   "name": "python3"
  },
  "language_info": {
   "codemirror_mode": {
    "name": "ipython",
    "version": 3
   },
   "file_extension": ".py",
   "mimetype": "text/x-python",
   "name": "python",
   "nbconvert_exporter": "python",
   "pygments_lexer": "ipython3",
   "version": "3.11.5"
  }
 },
 "nbformat": 4,
 "nbformat_minor": 2
}
